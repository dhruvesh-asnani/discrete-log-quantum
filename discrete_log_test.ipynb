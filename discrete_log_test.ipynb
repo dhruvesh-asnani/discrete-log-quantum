{
 "cells": [
  {
   "cell_type": "markdown",
   "metadata": {},
   "source": [
    "Here, we present an implementation of a quantum algorithm for the discrete log problem on the multiplicative group. The algorithm is based on the explanation in the book **An Introduction to Quantum Computing**  by **P. Kaye, R. Laflamme, M. Mosca**. ([Link](http://mmrc.amss.cas.cn/tlb/201702/W020170224608149125645.pdf)). Refer section 7.4 of the book for details.\n",
    "\n",
    "Here is the statement of discrete log problem for a group $G$.\n",
    "Let $a, b \\in G$. Let $b = a^k$. Our goal is to find $k$.\n",
    "\n",
    "There are two main parts of the algorithm for $G=\\mathbb{Z}^*_N$ where $N \\in \\mathbb{Z}^{\\geq 2}$:\n",
    "\n",
    "The first part is the implementation of the unitary transformation for modular exponentiation. This implementation is carried out in stages using the following functions: $\\texttt{get-angles()}$, $\\texttt{phi-add()}$, $\\texttt{phi-add-mod-N()}$, $\\texttt{multiply-mod-N()}$ and $\\texttt{power-mod-N()}$. \n",
    "\n",
    "The implementation of the first four functions is based on the [this](https://arxiv.org/abs/quant-ph/0205095) paper by Stephane Beauregard and is heavily inspired by [this](https://qiskit.org/documentation/_modules/qiskit/aqua/algorithms/single_sample/shor/shor.html) Qiskit implementation of Shor's algorithm.\n",
    "\n",
    "The second part is the reduction of the general discrete log problem to a set of discrete log problems where the order of generator is prime for each such new problem.\n",
    "\n",
    "The basic reduction is explained in detail in Theorem A.2.1 in the book. Applying this reduction multiple times, we get the following result:\n",
    "\n",
    "Let $|a| = r$ where $r \\in \\mathbb{Z}^{\\geq 2}$. \n",
    "Also, let $r = p_1 \\ldots p_n$ where $p_i$ is prime for $i=1,\\ldots,n$,\n",
    "let $r_i = p_i \\ldots p_n$ for all $i \\in \\mathbb{Z}^+$,\n",
    "let $l_i = \\frac{r}{r_i}$ for all $i \\in \\mathbb{Z}^+$,\n",
    "let $a_i = a^{\\frac{r}{p_i}}$ for $i=1,\\ldots,n$.\n",
    "So, $|a_i| = p_i$ for $i=1,\\ldots,n$.\n",
    "\n",
    "Then $k$ can be written uniquely as\n",
    "$$k = c_1r_2+\\ldots+c_{n-1}r_n+c_n$$\n",
    "where $c_i \\in \\mathbb{Z}_{p_i}$ for $i=1,\\ldots,n$ and \n",
    "$b_i = a_i^{c_i}$ for $i=1,\\ldots,n$ where\n",
    "$b_i=(b a^{-(c_{i+1} r_{i+2} + \\ldots c_n)})^{l_i}$ for $i=1,\\ldots,n$.\n",
    "\n",
    "So, solving discrete log problem for $(a_i, b_i, N)$ we can find $c_i$ for $i=1,\\ldots,N$ using which we can find $k$."
   ]
  },
  {
   "cell_type": "code",
   "execution_count": 1,
   "metadata": {},
   "outputs": [],
   "source": [
    "import numpy as np\n",
    "import math\n",
    "from time import time\n",
    "from math import gcd\n",
    "from qiskit import(QuantumCircuit, QuantumRegister, ClassicalRegister, execute, Aer)\n",
    "from qiskit.aqua.circuits import FourierTransformCircuits as ftc\n",
    "from qiskit.aqua.circuits.gates import mcu1\n",
    "from qiskit.visualization import plot_histogram\n",
    "from qiskit.quantum_info.operators import Operator\n",
    "from qiskit.aqua.utils import summarize_circuits"
   ]
  },
  {
   "cell_type": "markdown",
   "metadata": {},
   "source": [
    "$\\texttt{mod-exp(a, b, N)}$ computes $a^b\\text{ mod }N$ where $a \\in \\mathbb{Z}$, $b \\in \\mathbb{Z}^{\\geq0}$ and $N \\in \\mathbb{Z}^+$.\t"
   ]
  },
  {
   "cell_type": "code",
   "execution_count": 2,
   "metadata": {},
   "outputs": [],
   "source": [
    "def mod_exp(a, b, N):\n",
    "    X = int(a)\n",
    "    E = int(b)\n",
    "    m = int(N)\n",
    "    if(E<0 or m<1):\n",
    "        return None\n",
    "    X = X % m\n",
    "    Y = 1\n",
    "    while E > 0:\n",
    "        if E % 2 == 0:\n",
    "            X = (X * X) % m\n",
    "            E = E/2\n",
    "        else:\n",
    "            Y = (X * Y) % m\n",
    "            E = E - 1\n",
    "    return Y"
   ]
  },
  {
   "cell_type": "markdown",
   "metadata": {},
   "source": [
    "$\\texttt{egcd(a, b)}$, where  $a, b \\in \\mathbb{Z}$,  returns a 3-tuple $(g, x, y)$ where  $a, b, g \\in \\mathbb{Z}$ such that $|g| = \\text{gcd}(a, b)$ and $ax + by = g$. If $a=b=0$, the $g=0$ is returned."
   ]
  },
  {
   "cell_type": "code",
   "execution_count": 3,
   "metadata": {},
   "outputs": [],
   "source": [
    "def egcd(a, b):\n",
    "    if a == 0:\n",
    "        return (b, 0, 1)\n",
    "    else:\n",
    "        g, y, x = egcd(b % a, a)\n",
    "        return (g, x - (b // a) * y, y)"
   ]
  },
  {
   "cell_type": "markdown",
   "metadata": {},
   "source": [
    "$\\texttt{modinv(a, n)}$, where $a, n \\in \\mathbb{Z}$ such that $n \\geq 2$, returns $a^{-1} \\text{ mod } n$ if $a$ and $n$ are relatively prime and returns $\\texttt{None}$ otherwise."
   ]
  },
  {
   "cell_type": "code",
   "execution_count": 4,
   "metadata": {},
   "outputs": [],
   "source": [
    "def modinv(a, n):\n",
    "    if(n<2):\n",
    "        return None\n",
    "    g, _, x = egcd(n, a)\n",
    "    if(g!=1):\n",
    "        return None\n",
    "    return x % n"
   ]
  },
  {
   "cell_type": "markdown",
   "metadata": {},
   "source": [
    "$\\texttt{prime-factorize(n)}$, where $n \\in \\mathbb{Z}^+$, returns two lists $p=(p_1, \\ldots, p_m )$ and $a=(a_1, \\ldots, a_m)$ such that $n = p_1^{a_1} \\dots p_m^{a_m}$ where $p_i$ is prime and $a_i$ $\\in \\mathbb{Z}^+$ for $i=1,\\ldots,m$ and $p_1 < \\ldots < p_m$. If $n=1$, both lists are empty."
   ]
  },
  {
   "cell_type": "code",
   "execution_count": 5,
   "metadata": {},
   "outputs": [],
   "source": [
    "def prime_factorize(n):\n",
    "    n = int(n)\n",
    "    if n<1:\n",
    "        return None\n",
    "    if n<2:\n",
    "        return [], []\n",
    "    d=2\n",
    "    pf = []\n",
    "    power = []\n",
    "    while d*d<=n:\n",
    "        if n % d == 0:\n",
    "            pf.append(d)\n",
    "            k=0\n",
    "            while n%d==0:\n",
    "                n = n // d\n",
    "                k = k + 1\n",
    "            power.append(k)\n",
    "        d = d + 1\n",
    "    if n > 1:\n",
    "        pf.append(n)\n",
    "        power.append(1)\n",
    "    \n",
    "    return pf, power"
   ]
  },
  {
   "cell_type": "markdown",
   "metadata": {},
   "source": [
    "$\\texttt{prime-factorize-2(n)}$, where $n \\in \\mathbb{Z}^+$, returns a list $p = (p_1, \\ldots, p_m)$ such that $n=p_1 \\ldots p_m$ where $p_i$'s are prime and $p_1 \\leq \\ldots \\leq p_m$. If $n=1$, $p$ is empty."
   ]
  },
  {
   "cell_type": "code",
   "execution_count": 6,
   "metadata": {},
   "outputs": [],
   "source": [
    "def prime_factorize_2(n):\n",
    "    n = int(n)\n",
    "    if(n<1):\n",
    "        return None\n",
    "    if n<2:\n",
    "        return []\n",
    "    d=2\n",
    "    pf = []\n",
    "    while d*d<=n:\n",
    "        while n%d==0:\n",
    "            n = n // d\n",
    "            pf.append(d)\n",
    "        d = d + 1\n",
    "    if n > 1:\n",
    "        pf.append(n)\n",
    "    \n",
    "    return pf"
   ]
  },
  {
   "cell_type": "markdown",
   "metadata": {},
   "source": [
    "$\\texttt{phi-n(n)}$, where $n \\in \\mathbb{Z}^+$, returns the value of Euler's totient function $\\phi(n)$, which is the number of positive integers less than or equal to $n$ that are relatively prime to $n$."
   ]
  },
  {
   "cell_type": "code",
   "execution_count": 7,
   "metadata": {},
   "outputs": [],
   "source": [
    "def phi_n(n):\n",
    "    n = int(n)\n",
    "    if(n<1):\n",
    "        return None\n",
    "    pf , power = prime_factorize(n)\n",
    "    v = 1\n",
    "    for i in range(len(pf)):\n",
    "        v *= (pf[i] ** (power[i] - 1 )) * (pf[i] - 1)\n",
    "    return v"
   ]
  },
  {
   "cell_type": "markdown",
   "metadata": {},
   "source": [
    "$\\texttt{order(a, N)}$, where $a \\in \\mathbb{Z}$ and $N \\in \\mathbb{Z}^{\\geq 2}$ such that $a$ and $N$ are relatively prime, returns the smallest positive integer $r$ such that $a^r \\equiv 1 \\text{ mod } N$.  One may replace it with Shor's order finding algorithm."
   ]
  },
  {
   "cell_type": "code",
   "execution_count": 8,
   "metadata": {},
   "outputs": [],
   "source": [
    "def order(a, N):\n",
    "    N = int(N)\n",
    "    a = int(a) % N\n",
    "    if(N<2 or gcd(a, N)!=1):\n",
    "        return None\n",
    "    phi = phi_n(N)\n",
    "    d = 1\n",
    "    r = phi\n",
    "    while d*d <= phi:\n",
    "        if(phi % d == 0):\n",
    "            if(mod_exp(a, d, N)==1):\n",
    "                return d\n",
    "            if(mod_exp(a, phi/d, N) == 1):\n",
    "                r = phi/d\n",
    "        d = d + 1\n",
    "    return r"
   ]
  },
  {
   "cell_type": "markdown",
   "metadata": {},
   "source": [
    "$\\texttt{get-angles(a, n)}$ computes the rotation angle to be used in Fourier transform-like circuit for addition with $a$. $n$ denotes the number of bits used for representation. $a$ must be known classically."
   ]
  },
  {
   "cell_type": "code",
   "execution_count": 9,
   "metadata": {},
   "outputs": [],
   "source": [
    "def get_angles(a, n):\n",
    "    bit = bin(abs(int(a)))[2:].zfill(n)\n",
    "    theta = np.zeros(n)\n",
    "    for i in range(n):\n",
    "        for j in range(n-1-i, n):\n",
    "            if bit[j] == '1':\n",
    "                theta[i] += 2**(n-i-j-1)\n",
    "    theta = theta * np.pi\n",
    "    return theta"
   ]
  },
  {
   "cell_type": "markdown",
   "metadata": {},
   "source": [
    "$\\texttt{phi-add(circuit, q, a, n, c=[], inverse = False)}$ creates circuit to add(subtract, if $\\texttt{inverse==True}$) $a$ to(from) $q$ modulo $2^n$ in Fourier Space. $n$ is the number of bits used for representation. $c$ is a (possibly empty) list of control bits. $a$ must be known classically. $q$ is a quantum register of $n$ bits."
   ]
  },
  {
   "cell_type": "code",
   "execution_count": 10,
   "metadata": {},
   "outputs": [],
   "source": [
    "def phi_add(circuit, q, a, n, c=[], inverse = False):\n",
    "    theta = get_angles(a, n)    \n",
    "    if(inverse):\n",
    "        theta = -theta\n",
    "    if not c:\n",
    "        for i in range(n):\n",
    "            circuit.u1(theta[i], q[i])    \n",
    "    else:\n",
    "        for i in range(n):\n",
    "            circuit.mcu1(theta[i], c, q[i])    "
   ]
  },
  {
   "cell_type": "markdown",
   "metadata": {},
   "source": [
    "$\\texttt{phi-add-mod-N(circuit, q, a, n, N, c, aux, inverse = False)}$ creates circuit to add(subtract, if $\\texttt{inverse==True}$) $a \\in \\mathbb{Z}^+$ to(from) $q$ mod $N$ in Fourier Space. $n$ is the number of bits used for representation. $c$ is a non-empty list of control bits. $a$ must be known classically. $q$ is a quantum register of $n+1$ bits. $q$ must be a non-negative integer less than $N$. $N$ must be a positive integer less than $2^n$. $aux$ is a single auxiliary qubit."
   ]
  },
  {
   "cell_type": "code",
   "execution_count": 11,
   "metadata": {},
   "outputs": [],
   "source": [
    "def phi_add_mod_N(circuit, q, a, n, N, c, aux, inverse = False):\n",
    "    if not c :\n",
    "        print('There should be at least one control qubit')\n",
    "        return None\n",
    "    if N <= 0 or N >= 2**n :\n",
    "        print('Choose appropriate N')\n",
    "        return None\n",
    "    if(inverse):\n",
    "        a = (-a) % N\n",
    "    else: \n",
    "        a = a % N\n",
    "        \n",
    "    phi_add(circuit, q, a, n+1, c)\n",
    "    phi_add(circuit, q, N, n+1, inverse=True)\n",
    "    ftc.construct_circuit(circuit=circuit, qubits=[q[i] for i in reversed(range(n+1))], do_swaps=False, inverse=True)\n",
    "    circuit.cx(q[n], aux)\n",
    "    ftc.construct_circuit(circuit=circuit, qubits=[q[i] for i in reversed(range(n+1))], do_swaps=False)\n",
    "    phi_add(circuit, q, N, n+1, [aux])\n",
    "    phi_add(circuit, q, a, n+1, c, inverse=True)\n",
    "    ftc.construct_circuit(circuit=circuit, qubits=[q[i] for i in reversed(range(n+1))], do_swaps=False, inverse=True)\n",
    "    circuit.x(q[n])\n",
    "    circuit.cx(q[n], aux)\n",
    "    circuit.x(q[n])\n",
    "    ftc.construct_circuit(circuit=circuit, qubits=[q[i] for i in reversed(range(n+1))], do_swaps=False)\n",
    "    phi_add(circuit, q, a, n+1, c)"
   ]
  },
  {
   "cell_type": "markdown",
   "metadata": {},
   "source": [
    "$\\texttt{multiply-mod-N(circuit, q, a, n, N, c, aux)}$ creates circuit to multiply $a$ to $q$ mod $N$ in usual bit representation. $n$ is the number of bits used for representation. $a \\in \\mathbb{Z}^+$ must be known classically. $q$ is a quantum register of $n$ bits. $q$ must be a non-negative integer less than $N$ if we want the output to be $q$ mod $N$ (instead of $q$) when $c$ is $0$. $N$ must be a positive integer less than $2^n$. $a$ and $N$ must be relatively prime. $c$ is the only control bit. $aux$ is an auxiliary quantum register of $n+2$ bits."
   ]
  },
  {
   "cell_type": "code",
   "execution_count": 12,
   "metadata": {},
   "outputs": [],
   "source": [
    "def multiply_mod_N(circuit, q, a, n, N, c, aux):\n",
    "    if N <= 0 or N >= 2**n :\n",
    "        print('Choose appropriate N')\n",
    "        return None\n",
    "    a = a % N\n",
    "    a_inv = modinv(a, N)\n",
    "    if(not a_inv):\n",
    "        print('Inverse of a does not exist')\n",
    "        return None\n",
    "    pow_2_mod = np.zeros(n)\n",
    "    pow_2_mod[0] = 1\n",
    "    for i in range(1, n):\n",
    "        pow_2_mod[i] = (2*pow_2_mod[i-1]) % N\n",
    "        \n",
    "    ftc.construct_circuit(circuit=circuit, qubits=[aux[i] for i in reversed(range(n+1))], do_swaps=False)\n",
    "    for i in range(n):\n",
    "        phi_add_mod_N(circuit, aux, (pow_2_mod[i]*a) % N, n, N, [c, q[i]], aux[n+1])\n",
    "    ftc.construct_circuit(circuit=circuit, qubits=[aux[i] for i in reversed(range(n+1))], do_swaps=False, inverse=True)\n",
    "    \n",
    "    for i in range(n):\n",
    "        circuit.cswap(c, q[i], aux[i])\n",
    "\n",
    "    ftc.construct_circuit(circuit=circuit, qubits=[aux[i] for i in reversed(range(n+1))], do_swaps=False)\n",
    "    for i in reversed(range(n)):\n",
    "        phi_add_mod_N(circuit, aux, (pow_2_mod[i]*a_inv) % N, n, N, [c, q[i]], aux[n+1], inverse=True)\n",
    "    ftc.construct_circuit(circuit=circuit, qubits=[aux[i] for i in reversed(range(n+1))], do_swaps=False, inverse=True)"
   ]
  },
  {
   "cell_type": "markdown",
   "metadata": {},
   "source": [
    "$\\texttt{power-mod-N(circuit, q, r, a, m, n, N, aux)}$ creates circuit to compute $(r \\cdot a^q )\\text{ mod } N$ in the usual bit representation. $n$ is the number of bits used in the representation. $a$ must be known classically. $q$ and $r$ are quantum registers of $m$ and $n$ bits respectively. $N$ must be a positive integer less than $2^n$. $a$ and $N$ must be relatively prime. $aux$ is an auxiliary quantum register of $n+2$ bits. $r$ must be a non-negative integer less than $N$. However, if we know that $q$ is always positive, $r$ can be any non-negative integer less that $2^n$."
   ]
  },
  {
   "cell_type": "code",
   "execution_count": 13,
   "metadata": {},
   "outputs": [],
   "source": [
    "def power_mod_N(circuit, q, r, a, m, n, N, aux):\n",
    "    if N <= 0 or N >= 2**n :\n",
    "        print('Choose appropriate N')\n",
    "        return None\n",
    "    temp = a % N\n",
    "    for i in range(m):\n",
    "        multiply_mod_N(circuit, r, temp, n, N, q[i], aux)\n",
    "        temp = (temp*temp) % N"
   ]
  },
  {
   "cell_type": "markdown",
   "metadata": {},
   "source": [
    "$\\texttt{discrete-log-solver(a, b, N, r, n-shots=64)}$ returns a pair $(t, n\\_trials)$ such that $a^t \\equiv b \\text{ mod } N$ if such a $t$ exists. In this case, $t \\in \\mathbb{Z}_r$. Otherwise $t = \\texttt{None}$. $0 \\leq n\\_trials \\leq n\\_shots$ is the number of times the algorithm was run to obtain the answer.  $a \\in \\mathbb{Z}$ and $N \\in \\mathbb{Z}^{\\geq 2}$ such that  $a$ and $N$ must be relatively prime.  $b \\in \\mathbb{Z}$. $r$ is the order of $a$ modulo $N$. $r$ must be a prime number.  The function does not verify the primality of $r$. So, if $r$ is not prime, the behaviour is undefined. $n\\_shots$ is the maximum number of times the algorithm should be run to determine the answer."
   ]
  },
  {
   "cell_type": "code",
   "execution_count": 14,
   "metadata": {},
   "outputs": [],
   "source": [
    "def discrete_log_solver(a, b, N, r, n_shots=64):\n",
    "    N = int(N)\n",
    "    a = int(a) % N\n",
    "    b = int(b) % N\n",
    "    r = int(r)\n",
    "    n_shots = int(n_shots)\n",
    "\n",
    "    if(N<2 or gcd(a, N)!=1 or n_shots<1):\n",
    "        return None\n",
    "    if(mod_exp(a, r, N)!=1):\n",
    "        return None\n",
    "    if(gcd(b, N)!=1):\n",
    "        return (None, 0)\n",
    "    \n",
    "    n = int(np.ceil(np.log2(N)))\n",
    "    m = int(np.ceil(np.log2(r))) + 1\n",
    "    q = QuantumRegister(2*(m+n+1), 'q')\n",
    "    c = ClassicalRegister(2*m, 'c')\n",
    "    circuit = QuantumCircuit(q, c)\n",
    "    \n",
    "    for i in range(2*m):\n",
    "        circuit.h(q[i])\n",
    "    circuit.x(q[2*m])\n",
    "    power_mod_N(circuit, q[:m], q[2*m:2*m+n], a, m, n, N, q[2*m+n:2*m+2*n+2])\n",
    "    power_mod_N(circuit, q[m:2*m], q[2*m:2*m+n], b, m, n, N, q[2*m+n:2*m+2*n+2])\n",
    "    ftc.construct_circuit(circuit=circuit, qubits=[q[i] for i in reversed(range(m))], inverse=True)\n",
    "    ftc.construct_circuit(circuit=circuit, qubits=[q[i] for i in reversed(range(m, 2*m))], inverse=True)\n",
    "    circuit.measure(q[:2*m], c[:2*m])\n",
    "    \n",
    "    simulator = Aer.get_backend('qasm_simulator')\n",
    "    job = execute(circuit, simulator, shots=n_shots)\n",
    "    result = job.result()\n",
    "    counts = result.get_counts(circuit)\n",
    "\n",
    "    i=1\n",
    "    for key in counts:\n",
    "        x = int(key[-m:], 2) \n",
    "        y = int(key[-2*m:-m], 2) \n",
    "        k = round((x*r)/(2**m))\n",
    "        kt_mod_r = round((y*r)/(2**m))\n",
    "        if(k % r != 0):\n",
    "            t = (modinv(k, r) * kt_mod_r) % r\n",
    "            if(mod_exp(a, t, N) == b):\n",
    "                return (t, i)\n",
    "                break\n",
    "        i = i + 1\n",
    "    return (None, n_shots)"
   ]
  },
  {
   "cell_type": "markdown",
   "metadata": {},
   "source": [
    "$\\texttt{discrete-log(a, b, N, n-shots=64)}$ returns a pair $(t, n\\_trials)$ such that $a^t \\equiv b \\text{ mod } N$ if such a $t$ exists. In this case, $t \\in \\mathbb{Z}_r$. Otherwise $t = \\texttt{None}$.  $a \\in \\mathbb{Z}$ and $N \\in \\mathbb{Z}^{\\geq 2}$ such that  $a$ and $N$ must be relatively prime.  $b \\in \\mathbb{Z}$. Here, $r$ is the order of $a$ modulo $N$ which can also be composite. This function uses the $\\texttt{order()}$ and $\\texttt{prime-factorize-2()}$ functions. One may replace the definitions of these functions by their quantum counterparts which work in polynomial time. This is not done here so as to focus only on the quantum part of discrete log algorithm.  Also, the function works by repeatedly calling the $\\texttt{discrete-log-solver()}$ function. The $n\\_shots$ argument to this function will be the one passed in the $\\texttt{discrete-log()}$  function."
   ]
  },
  {
   "cell_type": "code",
   "execution_count": 26,
   "metadata": {},
   "outputs": [],
   "source": [
    "def discrete_log(a, b, N, n_shots=64):\n",
    "    N = int(N)\n",
    "    a = int(a) % N\n",
    "    b = int(b) % N\n",
    "    n_shots = int(n_shots)\n",
    "    \n",
    "    if(N<2 or gcd(a, N) != 1 or n_shots<1):\n",
    "        return None\n",
    "    if(gcd(b, N) != 1):\n",
    "        return (None, 0)\n",
    "    \n",
    "    r = int(order(a, N))\n",
    "    if(r==1):\n",
    "        if(b==1):\n",
    "            return (0, 0)\n",
    "        else:\n",
    "            return (None, 0)\n",
    "    pf = prime_factorize_2(r)\n",
    "    n = len(pf)\n",
    "    print('Output Format: ')\n",
    "    print('Subproblem i: a_i b_i c_i time_taken_to_solve_the_subproblem')\n",
    "    print('Subproblems are solved in reverse order \\n')\n",
    "    print('No. of subproblems:', n)\n",
    "    A = np.zeros(n+1)\n",
    "    R = np.zeros(n+2)\n",
    "    L = np.zeros(n+1)\n",
    "    L[1] = int(1)\n",
    "    R[n+1] = int(1)\n",
    "    k = 0\n",
    "    n_trials = 0\n",
    "    for i in reversed(range(1, n+1)):\n",
    "        R[i] = R[i+1] * pf[i-1]\n",
    "    for i in reversed(range(1, n+1)):\n",
    "        print('Subproblem', i, ':', end=' ')\n",
    "        L_i = r/R[i]\n",
    "        A_i = mod_exp(a, r/pf[i-1], N)\n",
    "        B_i = (b * mod_exp(a, (-k)%r, N) ) % N\n",
    "        B_i = mod_exp(B_i, L_i, N)\n",
    "        print(A_i, B_i, end=' ')\n",
    "        s_time = time()\n",
    "        C_i, trials = discrete_log_solver(A_i, B_i, N, pf[i-1], n_shots)\n",
    "        print(C_i, round(time()-s_time), 's')\n",
    "        n_trials = n_trials + trials\n",
    "        if(C_i == None):\n",
    "            return (None, n_trials)\n",
    "        k = k + C_i * R[i+1]\n",
    "    return (int(k) , n_trials)"
   ]
  },
  {
   "cell_type": "code",
   "execution_count": 29,
   "metadata": {},
   "outputs": [
    {
     "name": "stdout",
     "output_type": "stream",
     "text": [
      "Output Format: \n",
      "Subproblem i: a_i b_i c_i time_taken_to_solve_the_subproblem\n",
      "Subproblems are solved in reverse order \n",
      "\n",
      "No. of subproblems: 2\n",
      "Subproblem 2 : 19 1 0 37 s\n",
      "Subproblem 1 : 19 19 1 37 s\n",
      "\n",
      "\n",
      "ans: 2\n",
      "n_trials: 8\n"
     ]
    }
   ],
   "source": [
    "a = 7\n",
    "b = 19\n",
    "N = 30\n",
    "ans, n_trials = discrete_log(a, b, N)\n",
    "print('\\n')\n",
    "print('ans:', ans)\n",
    "print('n_trials:', n_trials)"
   ]
  },
  {
   "cell_type": "code",
   "execution_count": null,
   "metadata": {},
   "outputs": [],
   "source": []
  }
 ],
 "metadata": {
  "kernelspec": {
   "display_name": "Python 3",
   "language": "python",
   "name": "python3"
  },
  "language_info": {
   "codemirror_mode": {
    "name": "ipython",
    "version": 3
   },
   "file_extension": ".py",
   "mimetype": "text/x-python",
   "name": "python",
   "nbconvert_exporter": "python",
   "pygments_lexer": "ipython3",
   "version": "3.6.9"
  }
 },
 "nbformat": 4,
 "nbformat_minor": 2
}
